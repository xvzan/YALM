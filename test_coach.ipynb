{
 "cells": [
  {
   "cell_type": "code",
   "execution_count": null,
   "metadata": {},
   "outputs": [],
   "source": [
    "from transformers import GPT2TokenizerFast\n",
    "new_tokenizer = GPT2TokenizerFast.from_pretrained(\"openai-community/gpt2\", cache_dir=\"hfcache\")"
   ]
  },
  {
   "cell_type": "code",
   "execution_count": null,
   "metadata": {},
   "outputs": [],
   "source": [
    "from model import YALMGPT2Model, YALMGPT2Config\n",
    "config = YALMGPT2Config(n_positions=1024,n_layer=12,n_embd=768,n_head=8)\n",
    "model = YALMGPT2Model(config)"
   ]
  },
  {
   "cell_type": "code",
   "execution_count": null,
   "metadata": {},
   "outputs": [],
   "source": [
    "from datasets import load_dataset\n",
    "ds = load_dataset(\"facebook/belebele\", \"zho_Hans\", cache_dir=\"hfcache\", split=\"test\")"
   ]
  },
  {
   "cell_type": "code",
   "execution_count": null,
   "metadata": {},
   "outputs": [],
   "source": [
    "ds2=ds.rename_column('flores_passage', 'text')"
   ]
  },
  {
   "cell_type": "code",
   "execution_count": null,
   "metadata": {},
   "outputs": [],
   "source": [
    "new_tokenizer.model_max_length = config.n_positions\n",
    "new_tokenizer.pad_token = new_tokenizer.eos_token\n",
    "\n",
    "from coach import Coach\n",
    "\n",
    "def tokenize_function(example):\n",
    "    return new_tokenizer(example[\"text\"], truncation=False)\n",
    "\n",
    "tokenized_datasets = ds2.map(tokenize_function, batched=True)\n",
    "\n",
    "coach = Coach(tokenized_datasets, new_tokenizer)"
   ]
  },
  {
   "cell_type": "code",
   "execution_count": null,
   "metadata": {},
   "outputs": [],
   "source": [
    "modified_dataset = tokenized_datasets.map(coach)"
   ]
  },
  {
   "cell_type": "code",
   "execution_count": null,
   "metadata": {},
   "outputs": [],
   "source": [
    "from transformers import TrainingArguments, Trainer\n",
    "training_args = TrainingArguments(\n",
    "    output_dir=\"./t2\",\n",
    "    label_names=[\"output_ids\",\"dni_labels\"]\n",
    ")\n",
    "trainer = Trainer(\n",
    "    model=model,\n",
    "    train_dataset=modified_dataset,\n",
    "    args=training_args,\n",
    ")"
   ]
  },
  {
   "cell_type": "code",
   "execution_count": null,
   "metadata": {},
   "outputs": [],
   "source": [
    "trainer.train()"
   ]
  }
 ],
 "metadata": {
  "kernelspec": {
   "display_name": "Python 3",
   "language": "python",
   "name": "python3"
  },
  "language_info": {
   "codemirror_mode": {
    "name": "ipython",
    "version": 3
   },
   "file_extension": ".py",
   "mimetype": "text/x-python",
   "name": "python",
   "nbconvert_exporter": "python",
   "pygments_lexer": "ipython3",
   "version": "3.10.12"
  }
 },
 "nbformat": 4,
 "nbformat_minor": 2
}
