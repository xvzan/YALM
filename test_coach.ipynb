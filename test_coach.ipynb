{
 "cells": [
  {
   "cell_type": "code",
   "execution_count": null,
   "metadata": {},
   "outputs": [
    {
     "name": "stderr",
     "output_type": "stream",
     "text": [
      "/home/ubuntu/.local/lib/python3.10/site-packages/tqdm/auto.py:21: TqdmWarning: IProgress not found. Please update jupyter and ipywidgets. See https://ipywidgets.readthedocs.io/en/stable/user_install.html\n",
      "  from .autonotebook import tqdm as notebook_tqdm\n"
     ]
    }
   ],
   "source": [
    "from transformers import GPT2TokenizerFast\n",
    "new_tokenizer = GPT2TokenizerFast.from_pretrained(\"openai-community/gpt2\", cache_dir=\"hfcache\")"
   ]
  },
  {
   "cell_type": "code",
   "execution_count": 2,
   "metadata": {},
   "outputs": [
    {
     "name": "stderr",
     "output_type": "stream",
     "text": [
      "Using the latest cached version of the dataset since facebook/belebele couldn't be found on the Hugging Face Hub\n",
      "Found the latest cached dataset configuration 'zho_Hans' at hfcache/facebook___belebele/zho_Hans/0.0.0/7899cdfa4e1e0d733fd77c848e2c273cb1d32be2 (last modified on Tue Nov 26 19:18:05 2024).\n"
     ]
    }
   ],
   "source": [
    "from datasets import load_dataset\n",
    "ds = load_dataset(\"facebook/belebele\", \"zho_Hans\", cache_dir=\"hfcache\", split=\"test\")"
   ]
  },
  {
   "cell_type": "code",
   "execution_count": 3,
   "metadata": {},
   "outputs": [],
   "source": [
    "ds2=ds.rename_column('flores_passage', 'text')"
   ]
  },
  {
   "cell_type": "code",
   "execution_count": 4,
   "metadata": {},
   "outputs": [],
   "source": [
    "new_tokenizer.model_max_length=512\n",
    "\n",
    "from coach import Coach\n",
    "\n",
    "def tokenize_function(example):\n",
    "    return new_tokenizer(example[\"text\"], example[\"text\"], truncation=True)\n",
    "\n",
    "tokenized_datasets = ds2.map(tokenize_function, batched=True)\n",
    "\n",
    "coach = Coach(tokenized_datasets, new_tokenizer)\n"
   ]
  },
  {
   "cell_type": "code",
   "execution_count": 5,
   "metadata": {},
   "outputs": [],
   "source": [
    "modified_dataset = tokenized_datasets.map(coach)\n",
    "# coach(tokenized_datasets[0])"
   ]
  },
  {
   "cell_type": "code",
   "execution_count": 6,
   "metadata": {},
   "outputs": [],
   "source": [
    "modified_dataset[0]"
   ]
  }
 ],
 "metadata": {
  "kernelspec": {
   "display_name": "Python 3",
   "language": "python",
   "name": "python3"
  },
  "language_info": {
   "codemirror_mode": {
    "name": "ipython",
    "version": 3
   },
   "file_extension": ".py",
   "mimetype": "text/x-python",
   "name": "python",
   "nbconvert_exporter": "python",
   "pygments_lexer": "ipython3",
   "version": "3.10.12"
  }
 },
 "nbformat": 4,
 "nbformat_minor": 2
}
